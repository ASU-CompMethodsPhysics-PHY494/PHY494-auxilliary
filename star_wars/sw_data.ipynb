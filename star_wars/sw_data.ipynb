{
 "cells": [
  {
   "cell_type": "markdown",
   "metadata": {},
   "source": [
    "# Star Wars data\n",
    "All data from http://swapi.co using their python API."
   ]
  },
  {
   "cell_type": "code",
   "execution_count": 3,
   "metadata": {
    "collapsed": false
   },
   "outputs": [],
   "source": [
    "import swapi"
   ]
  },
  {
   "cell_type": "markdown",
   "metadata": {},
   "source": [
    "(`swapi` can be installed with `pip install --user`.)"
   ]
  },
  {
   "cell_type": "markdown",
   "metadata": {},
   "source": [
    "## Code "
   ]
  },
  {
   "cell_type": "markdown",
   "metadata": {},
   "source": [
    "`swapi.get_all(category)` pulls the data from the database and wraps it into a `Model`. The code below takes the `Model` apart and selects records of interest. Refer to the API definition for all available records. Note that models can be linked, e.g., a `homeplanet` of a person in `people` is a `Planet` class, which can in turn be interrogated."
   ]
  },
  {
   "cell_type": "code",
   "execution_count": 48,
   "metadata": {
    "collapsed": false
   },
   "outputs": [],
   "source": [
    "class Slurper(object):\n",
    "    \"\"\"Handle SWAPI database and support export\"\"\"\n",
    "    \n",
    "    def __init__(self, category):\n",
    "        self.category = category\n",
    "        self.container = swapi.get_all(category)\n",
    "        self.data = list(self.container.iter())\n",
    "        self.records = self.get_records()\n",
    "        \n",
    "    def get_records(self):\n",
    "        \"\"\"Records are hard coded for each category\"\"\"      \n",
    "        return [tuple(self._fix_entry(s) for s in rec) \n",
    "                            for rec in self._get_records_for(self.category)]\n",
    "    \n",
    "    def _get_records_for(self, category):\n",
    "        \"\"\"Internal method to select appropriate record creator\"\"\"\n",
    "        get_method = {\n",
    "            'planets': self.planet_records,\n",
    "            'people': self.people_records,\n",
    "            'vehicles': self.vehicle_records,\n",
    "            'starships': self.starship_records,\n",
    "        }\n",
    "        return get_method[category]()\n",
    "    \n",
    "    def export_csv(self, fn):\n",
    "        with open(fn, \"w\") as out:\n",
    "            for rec in self.records:\n",
    "                out.write(\",\".join(rec) + '\\n')\n",
    "    \n",
    "    def _fix_entry(self, entry):\n",
    "        \"\"\"Replace comma with space and strip trailing whitespace.\n",
    "        \n",
    "        Also need to get rid of all special characters.\n",
    "        \"\"\"\n",
    "        # python 2\n",
    "        #return entry.replace(\",\", \"/\").strip().encode('ascii', 'ignore')\n",
    "        # python 3 might handle unicode\n",
    "        entry = self._fix_numbers(entry)\n",
    "        return entry.replace(\",\", \"/\").strip()\n",
    "    \n",
    "    @staticmethod\n",
    "    def _fix_numbers(x):\n",
    "        \"\"\"Return a number as a string if it can be interpreted as one (e.g 1,234 == 1234)\"\"\"\n",
    "        s = str(x).replace(\",\", \"\").replace(\" \",\"\")\n",
    "        try:\n",
    "            return str(int(s))\n",
    "        except ValueError:\n",
    "            try:\n",
    "                return str(float(s))\n",
    "            except ValueError:\n",
    "                pass\n",
    "        return x\n",
    "        \n",
    "    def planet_records(self):\n",
    "        \"\"\"name, diameter, terrain\"\"\"\n",
    "        return ((p.name, p.diameter, p.terrain) for p in self.data)\n",
    "    \n",
    "    def people_records(self):\n",
    "        \"\"\"name, homeworld, eye_color, mass\"\"\"\n",
    "        return ((p.name, p.get_homeworld().name, p.eye_color, p.mass) for p in self.data)\n",
    "    \n",
    "    def vehicle_records(self):\n",
    "        \"\"\"name, model, vehicle_class, max_atomspheric_speed, cost_in_credits\"\"\"\n",
    "        return ((v.name, v.model, v.vehicle_class, v.max_atmosphering_speed, \n",
    "                 v.cost_in_credits) for v in self.data)\n",
    "    \n",
    "    def starship_records(self):\n",
    "        \"\"\"name, model, vehicle_class, max_atomspheric_speed, cost_in_credits, length\"\"\"\n",
    "        return ((v.name, v.model, v.starship_class, v.max_atmosphering_speed, \n",
    "          v.cost_in_credits, v.length) for v in self.data)\n",
    "    "
   ]
  },
  {
   "cell_type": "markdown",
   "metadata": {},
   "source": [
    "Save CSV files in the data directory:"
   ]
  },
  {
   "cell_type": "code",
   "execution_count": 22,
   "metadata": {
    "collapsed": false,
    "scrolled": true
   },
   "outputs": [
    {
     "name": "stdout",
     "output_type": "stream",
     "text": [
      "mkdir: data: File exists\r\n"
     ]
    }
   ],
   "source": [
    "%mkdir data"
   ]
  },
  {
   "cell_type": "markdown",
   "metadata": {},
   "source": [
    "## Extract data for all categories\n",
    "Data are dumped as CSV files. For the class there is also a simple \"planets.dat\" file, which was generated with the script `planets_list.py`."
   ]
  },
  {
   "cell_type": "markdown",
   "metadata": {},
   "source": [
    "### Planets "
   ]
  },
  {
   "cell_type": "code",
   "execution_count": 52,
   "metadata": {
    "collapsed": false
   },
   "outputs": [],
   "source": [
    "planets = Slurper(\"planets\")\n",
    "planets.export_csv(\"data/planets.csv\")"
   ]
  },
  {
   "cell_type": "markdown",
   "metadata": {},
   "source": [
    "### People "
   ]
  },
  {
   "cell_type": "code",
   "execution_count": 49,
   "metadata": {
    "collapsed": false
   },
   "outputs": [],
   "source": [
    "people = Slurper(\"people\")\n",
    "people.export_csv(\"data/people.csv\")"
   ]
  },
  {
   "cell_type": "markdown",
   "metadata": {},
   "source": [
    "### Vehicles "
   ]
  },
  {
   "cell_type": "code",
   "execution_count": 50,
   "metadata": {
    "collapsed": true
   },
   "outputs": [],
   "source": [
    "vehicles = Slurper(\"vehicles\")\n",
    "vehicles.export_csv(\"data/vehicles.csv\")"
   ]
  },
  {
   "cell_type": "markdown",
   "metadata": {},
   "source": [
    "### Starships "
   ]
  },
  {
   "cell_type": "code",
   "execution_count": 51,
   "metadata": {
    "collapsed": true
   },
   "outputs": [],
   "source": [
    "starships = Slurper(\"starships\")\n",
    "starships.export_csv(\"data/starships.csv\")"
   ]
  },
  {
   "cell_type": "markdown",
   "metadata": {},
   "source": [
    "## Example data "
   ]
  },
  {
   "cell_type": "code",
   "execution_count": 28,
   "metadata": {
    "collapsed": false
   },
   "outputs": [
    {
     "data": {
      "text/plain": [
       "[<Person - Luke Skywalker>,\n",
       " <Person - C-3PO>,\n",
       " <Person - R2-D2>,\n",
       " <Person - Darth Vader>,\n",
       " <Person - Leia Organa>]"
      ]
     },
     "execution_count": 28,
     "metadata": {},
     "output_type": "execute_result"
    }
   ],
   "source": [
    "people.data[:5]"
   ]
  },
  {
   "cell_type": "code",
   "execution_count": 30,
   "metadata": {
    "collapsed": false
   },
   "outputs": [
    {
     "data": {
      "text/plain": [
       "[<Planet - Alderaan>,\n",
       " <Planet - Yavin IV>,\n",
       " <Planet - Hoth>,\n",
       " <Planet - Dagobah>,\n",
       " <Planet - Bespin>]"
      ]
     },
     "execution_count": 30,
     "metadata": {},
     "output_type": "execute_result"
    }
   ],
   "source": [
    "planets.data[:5]"
   ]
  },
  {
   "cell_type": "code",
   "execution_count": 32,
   "metadata": {
    "collapsed": false
   },
   "outputs": [
    {
     "data": {
      "text/plain": [
       "[<Starship - Sentinel-class landing craft>,\n",
       " <Starship - Death Star>,\n",
       " <Starship - Millennium Falcon>,\n",
       " <Starship - Y-wing>,\n",
       " <Starship - X-wing>]"
      ]
     },
     "execution_count": 32,
     "metadata": {},
     "output_type": "execute_result"
    }
   ],
   "source": [
    "starships.data[:5]"
   ]
  },
  {
   "cell_type": "code",
   "execution_count": null,
   "metadata": {
    "collapsed": true
   },
   "outputs": [],
   "source": []
  }
 ],
 "metadata": {
  "kernelspec": {
   "display_name": "Python 3",
   "language": "python",
   "name": "python3"
  },
  "language_info": {
   "codemirror_mode": {
    "name": "ipython",
    "version": 3
   },
   "file_extension": ".py",
   "mimetype": "text/x-python",
   "name": "python",
   "nbconvert_exporter": "python",
   "pygments_lexer": "ipython3",
   "version": "3.5.1"
  }
 },
 "nbformat": 4,
 "nbformat_minor": 0
}
