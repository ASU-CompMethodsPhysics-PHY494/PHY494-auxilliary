{
 "cells": [
  {
   "cell_type": "markdown",
   "metadata": {},
   "source": [
    "# Star Wars data\n",
    "All data from http://swapi.co using their python API."
   ]
  },
  {
   "cell_type": "code",
   "execution_count": 2,
   "metadata": {
    "collapsed": true
   },
   "outputs": [],
   "source": [
    "import swapi\n",
    "import cPickle"
   ]
  },
  {
   "cell_type": "code",
   "execution_count": 17,
   "metadata": {
    "collapsed": true
   },
   "outputs": [],
   "source": [
    "class Slurper(object):\n",
    "    def __init__(self, category):\n",
    "        self.container = swapi.get_all(category)\n",
    "        self.data = list(self.container.iter())\n",
    "        self.records = None\n",
    "        \n",
    "    def set_records(self, records):\n",
    "        self.records = [tuple(self.fix_entry(s) for s in rec) for rec in records]\n",
    "    \n",
    "    def export_csv(self, fn):\n",
    "        with open(fn, \"w\") as out:\n",
    "            for rec in self.records:\n",
    "                out.write(\",\".join(rec) + '\\n')\n",
    "    \n",
    "    def fix_entry(self, entry):\n",
    "        return entry.replace(\",\", \"\").strip().encode('ascii', 'ignore')\n"
   ]
  },
  {
   "cell_type": "markdown",
   "metadata": {},
   "source": [
    "## Planets "
   ]
  },
  {
   "cell_type": "code",
   "execution_count": 18,
   "metadata": {
    "collapsed": true
   },
   "outputs": [],
   "source": [
    "planets = Slurper(\"planets\")"
   ]
  },
  {
   "cell_type": "code",
   "execution_count": 19,
   "metadata": {
    "collapsed": false
   },
   "outputs": [],
   "source": [
    "planets.set_records((p.name, p.diameter, p.terrain) for p in planets.data)"
   ]
  },
  {
   "cell_type": "code",
   "execution_count": 22,
   "metadata": {
    "collapsed": false
   },
   "outputs": [],
   "source": [
    "planets.export_csv(\"planets.csv\")"
   ]
  },
  {
   "cell_type": "markdown",
   "metadata": {},
   "source": [
    "## People "
   ]
  },
  {
   "cell_type": "code",
   "execution_count": 63,
   "metadata": {
    "collapsed": true
   },
   "outputs": [],
   "source": [
    "people = swapi.get_all('people')"
   ]
  },
  {
   "cell_type": "code",
   "execution_count": 64,
   "metadata": {
    "collapsed": true
   },
   "outputs": [],
   "source": [
    "p_list = [p for p in people.iter()]"
   ]
  },
  {
   "cell_type": "code",
   "execution_count": 65,
   "metadata": {
    "collapsed": false
   },
   "outputs": [],
   "source": [
    "x = p_list[0]"
   ]
  },
  {
   "cell_type": "code",
   "execution_count": 66,
   "metadata": {
    "collapsed": false
   },
   "outputs": [
    {
     "data": {
      "text/plain": [
       "u'Tatooine'"
      ]
     },
     "execution_count": 66,
     "metadata": {},
     "output_type": "execute_result"
    }
   ],
   "source": [
    "x.get_homeworld().name"
   ]
  },
  {
   "cell_type": "code",
   "execution_count": 67,
   "metadata": {
    "collapsed": false
   },
   "outputs": [
    {
     "data": {
      "text/plain": [
       "u'Luke Skywalker'"
      ]
     },
     "execution_count": 67,
     "metadata": {},
     "output_type": "execute_result"
    }
   ],
   "source": [
    "x.name"
   ]
  },
  {
   "cell_type": "code",
   "execution_count": 68,
   "metadata": {
    "collapsed": false
   },
   "outputs": [
    {
     "data": {
      "text/plain": [
       "u'blue'"
      ]
     },
     "execution_count": 68,
     "metadata": {},
     "output_type": "execute_result"
    }
   ],
   "source": [
    "x.eye_color"
   ]
  },
  {
   "cell_type": "code",
   "execution_count": 69,
   "metadata": {
    "collapsed": false
   },
   "outputs": [
    {
     "data": {
      "text/plain": [
       "u'19BBY'"
      ]
     },
     "execution_count": 69,
     "metadata": {},
     "output_type": "execute_result"
    }
   ],
   "source": [
    "x.birth_year"
   ]
  },
  {
   "cell_type": "code",
   "execution_count": 70,
   "metadata": {
    "collapsed": false
   },
   "outputs": [
    {
     "data": {
      "text/plain": [
       "<StarshipQuerySet - 2>"
      ]
     },
     "execution_count": 70,
     "metadata": {},
     "output_type": "execute_result"
    }
   ],
   "source": [
    "x.get_starships()"
   ]
  },
  {
   "cell_type": "code",
   "execution_count": 71,
   "metadata": {
    "collapsed": true
   },
   "outputs": [],
   "source": [
    "records = [(p.name, p.get_homeworld().name, p.eye_color, p.mass) for p in p_list]"
   ]
  },
  {
   "cell_type": "code",
   "execution_count": 72,
   "metadata": {
    "collapsed": false,
    "scrolled": true
   },
   "outputs": [
    {
     "data": {
      "text/plain": [
       "[(u'Luke Skywalker', u'Tatooine', u'blue', u'77'),\n",
       " (u'C-3PO', u'Tatooine', u'yellow', u'75'),\n",
       " (u'R2-D2', u'Naboo', u'red', u'32'),\n",
       " (u'Darth Vader', u'Tatooine', u'yellow', u'136'),\n",
       " (u'Leia Organa', u'Alderaan', u'brown', u'49'),\n",
       " (u'Owen Lars', u'Tatooine', u'blue', u'120'),\n",
       " (u'Beru Whitesun lars', u'Tatooine', u'blue', u'75'),\n",
       " (u'R5-D4', u'Tatooine', u'red', u'32'),\n",
       " (u'Biggs Darklighter', u'Tatooine', u'brown', u'84'),\n",
       " (u'Obi-Wan Kenobi', u'Stewjon', u'blue-gray', u'77'),\n",
       " (u'Anakin Skywalker', u'Tatooine', u'blue', u'84'),\n",
       " (u'Wilhuff Tarkin', u'Eriadu', u'blue', u'unknown'),\n",
       " (u'Chewbacca', u'Kashyyyk', u'blue', u'112'),\n",
       " (u'Han Solo', u'Corellia', u'brown', u'80'),\n",
       " (u'Greedo', u'Rodia', u'black', u'74'),\n",
       " (u'Jabba Desilijic Tiure', u'Nal Hutta', u'orange', u'1,358'),\n",
       " (u'Wedge Antilles', u'Corellia', u'hazel', u'77'),\n",
       " (u'Jek Tono Porkins', u'Bestine IV', u'blue', u'110'),\n",
       " (u'Yoda', u'unknown', u'brown', u'17'),\n",
       " (u'Palpatine', u'Naboo', u'yellow', u'75'),\n",
       " (u'Boba Fett', u'Kamino', u'brown', u'78.2'),\n",
       " (u'IG-88', u'unknown', u'red', u'140'),\n",
       " (u'Bossk', u'Trandosha', u'red', u'113'),\n",
       " (u'Lando Calrissian', u'Socorro', u'brown', u'79'),\n",
       " (u'Lobot', u'Bespin', u'blue', u'79'),\n",
       " (u'Ackbar', u'Mon Cala', u'orange', u'83'),\n",
       " (u'Mon Mothma', u'Chandrila', u'blue', u'unknown'),\n",
       " (u'Arvel Crynyd', u'unknown', u'brown', u'unknown'),\n",
       " (u'Wicket Systri Warrick', u'Endor', u'brown', u'20'),\n",
       " (u'Nien Nunb', u'Sullust', u'black', u'68'),\n",
       " (u'Qui-Gon Jinn', u'unknown', u'blue', u'89'),\n",
       " (u'Nute Gunray', u'Cato Neimoidia', u'red', u'90'),\n",
       " (u'Finis Valorum', u'Coruscant', u'blue', u'unknown'),\n",
       " (u'Padm\\xe9 Amidala', u'Naboo', u'brown', u'45'),\n",
       " (u'Jar Jar Binks', u'Naboo', u'orange', u'66'),\n",
       " (u'Roos Tarpals', u'Naboo', u'orange', u'82'),\n",
       " (u'Rugor Nass', u'Naboo', u'orange', u'unknown'),\n",
       " (u'Ric Oli\\xe9', u'Naboo', u'blue', u'unknown'),\n",
       " (u'Watto', u'Toydaria', u'yellow', u'unknown'),\n",
       " (u'Sebulba', u'Malastare', u'orange', u'40'),\n",
       " (u'Quarsh Panaka', u'Naboo', u'brown', u'unknown'),\n",
       " (u'Shmi Skywalker', u'Tatooine', u'brown', u'unknown'),\n",
       " (u'Darth Maul', u'Dathomir', u'yellow', u'80'),\n",
       " (u'Bib Fortuna', u'Ryloth', u'pink', u'unknown'),\n",
       " (u'Ayla Secura', u'Ryloth', u'hazel', u'55'),\n",
       " (u'Ratts Tyerel', u'Aleen Minor', u'unknown', u'15'),\n",
       " (u'Dud Bolt', u'Vulpter', u'yellow', u'45'),\n",
       " (u'Gasgano', u'Troiken', u'black', u'unknown'),\n",
       " (u'Ben Quadinaros', u'Tund', u'orange', u'65'),\n",
       " (u'Mace Windu', u'Haruun Kal', u'brown', u'84'),\n",
       " (u'Ki-Adi-Mundi', u'Cerea', u'yellow', u'82'),\n",
       " (u'Kit Fisto', u'Glee Anselm', u'black', u'87'),\n",
       " (u'Eeth Koth', u'Iridonia', u'brown', u'unknown'),\n",
       " (u'Adi Gallia', u'Coruscant', u'blue', u'50'),\n",
       " (u'Saesee Tiin', u'Iktotch', u'orange', u'unknown'),\n",
       " (u'Yarael Poof', u'Quermia', u'yellow', u'unknown'),\n",
       " (u'Plo Koon', u'Dorin', u'black', u'80'),\n",
       " (u'Mas Amedda', u'Champala', u'blue', u'unknown'),\n",
       " (u'Gregar Typho', u'Naboo', u'brown', u'85'),\n",
       " (u'Cord\\xe9', u'Naboo', u'brown', u'unknown'),\n",
       " (u'Cliegg Lars', u'Tatooine', u'blue', u'unknown'),\n",
       " (u'Poggle the Lesser', u'Geonosis', u'yellow', u'80'),\n",
       " (u'Luminara Unduli', u'Mirial', u'blue', u'56.2'),\n",
       " (u'Barriss Offee', u'Mirial', u'blue', u'50'),\n",
       " (u'Dorm\\xe9', u'Naboo', u'brown', u'unknown'),\n",
       " (u'Dooku', u'Serenno', u'brown', u'80'),\n",
       " (u'Bail Prestor Organa', u'Alderaan', u'brown', u'unknown'),\n",
       " (u'Jango Fett', u'Concord Dawn', u'brown', u'79'),\n",
       " (u'Zam Wesell', u'Zolan', u'yellow', u'55'),\n",
       " (u'Dexter Jettster', u'Ojom', u'yellow', u'102'),\n",
       " (u'Lama Su', u'Kamino', u'black', u'88'),\n",
       " (u'Taun We', u'Kamino', u'black', u'unknown'),\n",
       " (u'Jocasta Nu', u'Coruscant', u'blue', u'unknown'),\n",
       " (u'R4-P17', u'unknown', u'red, blue', u'unknown'),\n",
       " (u'Wat Tambor', u'Skako', u'unknown', u'48'),\n",
       " (u'San Hill', u'Muunilinst', u'gold', u'unknown'),\n",
       " (u'Shaak Ti', u'Shili', u'black', u'57'),\n",
       " (u'Grievous', u'Kalee', u'green, yellow', u'159'),\n",
       " (u'Tarfful', u'Kashyyyk', u'blue', u'136'),\n",
       " (u'Raymus Antilles', u'Alderaan', u'brown', u'79'),\n",
       " (u'Sly Moore', u'Umbara', u'white', u'48'),\n",
       " (u'Tion Medon', u'Utapau', u'black', u'80'),\n",
       " (u'Finn', u'unknown', u'dark', u'unknown'),\n",
       " (u'Rey', u'unknown', u'hazel', u'unknown'),\n",
       " (u'Poe Dameron', u'unknown', u'brown', u'unknown'),\n",
       " (u'BB8', u'unknown', u'black', u'unknown'),\n",
       " (u'Captain Phasma', u'unknown', u'unknown', u'unknown')]"
      ]
     },
     "execution_count": 72,
     "metadata": {},
     "output_type": "execute_result"
    }
   ],
   "source": [
    "records"
   ]
  },
  {
   "cell_type": "code",
   "execution_count": 73,
   "metadata": {
    "collapsed": false
   },
   "outputs": [
    {
     "data": {
      "text/plain": [
       "87"
      ]
     },
     "execution_count": 73,
     "metadata": {},
     "output_type": "execute_result"
    }
   ],
   "source": [
    "len(records)"
   ]
  },
  {
   "cell_type": "code",
   "execution_count": 74,
   "metadata": {
    "collapsed": true
   },
   "outputs": [],
   "source": [
    "cPickle.dump(records, open(\"people.pkl\", \"w\"), protocol=cPickle.HIGHEST_PROTOCOL)"
   ]
  },
  {
   "cell_type": "code",
   "execution_count": 75,
   "metadata": {
    "collapsed": false
   },
   "outputs": [],
   "source": [
    "with open(\"people.csv\", \"w\") as out:\n",
    "    for rec in records:\n",
    "        out.write(\",\".join([s.encode('ascii', 'ignore') for s in rec]) + '\\n')"
   ]
  },
  {
   "cell_type": "markdown",
   "metadata": {},
   "source": [
    "## Vehicles "
   ]
  },
  {
   "cell_type": "code",
   "execution_count": 52,
   "metadata": {
    "collapsed": true
   },
   "outputs": [],
   "source": [
    "vehicles = swapi.get_all('vehicles')"
   ]
  },
  {
   "cell_type": "code",
   "execution_count": 53,
   "metadata": {
    "collapsed": true
   },
   "outputs": [],
   "source": [
    "v_list = [p for p in vehicles.iter()]"
   ]
  },
  {
   "cell_type": "code",
   "execution_count": 54,
   "metadata": {
    "collapsed": true
   },
   "outputs": [],
   "source": [
    "v = v_list[0]"
   ]
  },
  {
   "cell_type": "code",
   "execution_count": 55,
   "metadata": {
    "collapsed": false
   },
   "outputs": [
    {
     "data": {
      "text/plain": [
       "u'Sand Crawler'"
      ]
     },
     "execution_count": 55,
     "metadata": {},
     "output_type": "execute_result"
    }
   ],
   "source": [
    "v.name"
   ]
  },
  {
   "cell_type": "code",
   "execution_count": 56,
   "metadata": {
    "collapsed": false
   },
   "outputs": [
    {
     "data": {
      "text/plain": [
       "u'Digger Crawler'"
      ]
     },
     "execution_count": 56,
     "metadata": {},
     "output_type": "execute_result"
    }
   ],
   "source": [
    "v.model"
   ]
  },
  {
   "cell_type": "code",
   "execution_count": 57,
   "metadata": {
    "collapsed": false
   },
   "outputs": [
    {
     "data": {
      "text/plain": [
       "u'wheeled'"
      ]
     },
     "execution_count": 57,
     "metadata": {},
     "output_type": "execute_result"
    }
   ],
   "source": [
    "v.vehicle_class"
   ]
  },
  {
   "cell_type": "code",
   "execution_count": 58,
   "metadata": {
    "collapsed": false
   },
   "outputs": [
    {
     "data": {
      "text/plain": [
       "u'150000'"
      ]
     },
     "execution_count": 58,
     "metadata": {},
     "output_type": "execute_result"
    }
   ],
   "source": [
    "v.cost_in_credits"
   ]
  },
  {
   "cell_type": "code",
   "execution_count": 59,
   "metadata": {
    "collapsed": false
   },
   "outputs": [
    {
     "data": {
      "text/plain": [
       "u'30'"
      ]
     },
     "execution_count": 59,
     "metadata": {},
     "output_type": "execute_result"
    }
   ],
   "source": [
    "v.max_atmosphering_speed"
   ]
  },
  {
   "cell_type": "code",
   "execution_count": 86,
   "metadata": {
    "collapsed": true
   },
   "outputs": [],
   "source": [
    "v_records = [(v.name, v.model, v.vehicle_class, v.max_atmosphering_speed, v.cost_in_credits) for v in v_list]"
   ]
  },
  {
   "cell_type": "code",
   "execution_count": 87,
   "metadata": {
    "collapsed": true
   },
   "outputs": [],
   "source": [
    "cPickle.dump(v_records, open(\"vehicles.pkl\", \"w\"), protocol=cPickle.HIGHEST_PROTOCOL)"
   ]
  },
  {
   "cell_type": "code",
   "execution_count": 88,
   "metadata": {
    "collapsed": true
   },
   "outputs": [],
   "source": [
    "with open(\"vehicles.csv\", \"w\") as out:\n",
    "    for rec in v_records:\n",
    "        out.write(\",\".join([s.encode('ascii', 'ignore') for s in rec]) + '\\n')"
   ]
  },
  {
   "cell_type": "markdown",
   "metadata": {},
   "source": [
    "## Starships "
   ]
  },
  {
   "cell_type": "code",
   "execution_count": 40,
   "metadata": {
    "collapsed": true
   },
   "outputs": [],
   "source": [
    "ships = swapi.get_all('starships')"
   ]
  },
  {
   "cell_type": "code",
   "execution_count": 41,
   "metadata": {
    "collapsed": true
   },
   "outputs": [],
   "source": [
    "s_list = [p for p in ships.iter()]"
   ]
  },
  {
   "cell_type": "code",
   "execution_count": 42,
   "metadata": {
    "collapsed": false
   },
   "outputs": [
    {
     "data": {
      "text/plain": [
       "[<Starship - Sentinel-class landing craft>,\n",
       " <Starship - Death Star>,\n",
       " <Starship - Millennium Falcon>,\n",
       " <Starship - Y-wing>,\n",
       " <Starship - X-wing>,\n",
       " <Starship - TIE Advanced x1>,\n",
       " <Starship - Executor>,\n",
       " <Starship - Slave 1>,\n",
       " <Starship - Imperial shuttle>,\n",
       " <Starship - EF76 Nebulon-B escort frigate>,\n",
       " <Starship - Calamari Cruiser>,\n",
       " <Starship - A-wing>,\n",
       " <Starship - B-wing>,\n",
       " <Starship - Republic Cruiser>,\n",
       " <Starship - Naboo fighter>,\n",
       " <Starship - Naboo Royal Starship>,\n",
       " <Starship - Scimitar>,\n",
       " <Starship - J-type diplomatic barge>,\n",
       " <Starship - AA-9 Coruscant freighter>,\n",
       " <Starship - Jedi starfighter>,\n",
       " <Starship - H-type Nubian yacht>,\n",
       " <Starship - Star Destroyer>,\n",
       " <Starship - Trade Federation cruiser>,\n",
       " <Starship - Theta-class T-2c shuttle>,\n",
       " <Starship - T-70 X-wing fighter>,\n",
       " <Starship - Rebel transport>,\n",
       " <Starship - Droid control ship>,\n",
       " <Starship - Republic Assault ship>,\n",
       " <Starship - Solar Sailer>,\n",
       " <Starship - Republic attack cruiser>,\n",
       " <Starship - Naboo star skiff>,\n",
       " <Starship - Jedi Interceptor>,\n",
       " <Starship - arc-170>,\n",
       " <Starship - Banking clan frigte>,\n",
       " <Starship - Belbullab-22 starfighter>,\n",
       " <Starship - V-wing>,\n",
       " <Starship - CR90 corvette>]"
      ]
     },
     "execution_count": 42,
     "metadata": {},
     "output_type": "execute_result"
    }
   ],
   "source": [
    "s_list"
   ]
  },
  {
   "cell_type": "code",
   "execution_count": 76,
   "metadata": {
    "collapsed": true
   },
   "outputs": [],
   "source": [
    "s = s_list[2]"
   ]
  },
  {
   "cell_type": "code",
   "execution_count": 77,
   "metadata": {
    "collapsed": false
   },
   "outputs": [
    {
     "data": {
      "text/plain": [
       "u'Millennium Falcon'"
      ]
     },
     "execution_count": 77,
     "metadata": {},
     "output_type": "execute_result"
    }
   ],
   "source": [
    "s.name"
   ]
  },
  {
   "cell_type": "code",
   "execution_count": 78,
   "metadata": {
    "collapsed": false
   },
   "outputs": [
    {
     "data": {
      "text/plain": [
       "u'100000'"
      ]
     },
     "execution_count": 78,
     "metadata": {},
     "output_type": "execute_result"
    }
   ],
   "source": [
    "s.cost_in_credits"
   ]
  },
  {
   "cell_type": "code",
   "execution_count": 79,
   "metadata": {
    "collapsed": false
   },
   "outputs": [
    {
     "data": {
      "text/plain": [
       "u'34.37'"
      ]
     },
     "execution_count": 79,
     "metadata": {},
     "output_type": "execute_result"
    }
   ],
   "source": [
    "s.length"
   ]
  },
  {
   "cell_type": "code",
   "execution_count": 80,
   "metadata": {
    "collapsed": false
   },
   "outputs": [
    {
     "data": {
      "text/plain": [
       "u'1050'"
      ]
     },
     "execution_count": 80,
     "metadata": {},
     "output_type": "execute_result"
    }
   ],
   "source": [
    "s.max_atmosphering_speed"
   ]
  },
  {
   "cell_type": "code",
   "execution_count": 81,
   "metadata": {
    "collapsed": false
   },
   "outputs": [
    {
     "data": {
      "text/plain": [
       "u'Light freighter'"
      ]
     },
     "execution_count": 81,
     "metadata": {},
     "output_type": "execute_result"
    }
   ],
   "source": [
    "s.starship_class"
   ]
  },
  {
   "cell_type": "code",
   "execution_count": 82,
   "metadata": {
    "collapsed": false
   },
   "outputs": [
    {
     "data": {
      "text/plain": [
       "u'0.5'"
      ]
     },
     "execution_count": 82,
     "metadata": {},
     "output_type": "execute_result"
    }
   ],
   "source": [
    "s.hyperdrive_rating"
   ]
  },
  {
   "cell_type": "code",
   "execution_count": 83,
   "metadata": {
    "collapsed": false
   },
   "outputs": [
    {
     "data": {
      "text/plain": [
       "u'YT-1300 light freighter'"
      ]
     },
     "execution_count": 83,
     "metadata": {},
     "output_type": "execute_result"
    }
   ],
   "source": [
    "s.model"
   ]
  },
  {
   "cell_type": "code",
   "execution_count": 89,
   "metadata": {
    "collapsed": false
   },
   "outputs": [],
   "source": [
    "s_records = [(v.name, v.model, v.starship_class, v.max_atmosphering_speed, v.cost_in_credits, v.length) for v in s_list]"
   ]
  },
  {
   "cell_type": "code",
   "execution_count": 90,
   "metadata": {
    "collapsed": true
   },
   "outputs": [],
   "source": [
    "cPickle.dump(s_records, open(\"starships.pkl\", \"w\"), protocol=cPickle.HIGHEST_PROTOCOL)"
   ]
  },
  {
   "cell_type": "code",
   "execution_count": 91,
   "metadata": {
    "collapsed": true
   },
   "outputs": [],
   "source": [
    "with open(\"starships.csv\", \"w\") as out:\n",
    "    for rec in s_records:\n",
    "        out.write(\",\".join([s.encode('ascii', 'ignore') for s in rec]) + '\\n')"
   ]
  },
  {
   "cell_type": "code",
   "execution_count": null,
   "metadata": {
    "collapsed": true
   },
   "outputs": [],
   "source": []
  }
 ],
 "metadata": {
  "kernelspec": {
   "display_name": "Python 2",
   "language": "python",
   "name": "python2"
  },
  "language_info": {
   "codemirror_mode": {
    "name": "ipython",
    "version": 2
   },
   "file_extension": ".py",
   "mimetype": "text/x-python",
   "name": "python",
   "nbconvert_exporter": "python",
   "pygments_lexer": "ipython2",
   "version": "2.7.11"
  }
 },
 "nbformat": 4,
 "nbformat_minor": 0
}
